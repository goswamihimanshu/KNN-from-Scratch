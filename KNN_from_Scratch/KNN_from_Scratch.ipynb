{
 "cells": [
  {
   "cell_type": "code",
   "execution_count": 1,
   "metadata": {},
   "outputs": [],
   "source": [
    "# Importing libraries \n",
    "import numpy as np\n",
    "import pandas as pd \n",
    "from sklearn.model_selection import train_test_split \n",
    "from sklearn.neighbors import KNeighborsRegressor\n",
    "from sklearn.metrics import r2_score\n",
    "\n",
    "from sklearn.preprocessing import LabelEncoder\n",
    "from sklearn.preprocessing import MinMaxScaler"
   ]
  },
  {
   "cell_type": "code",
   "execution_count": 2,
   "metadata": {},
   "outputs": [],
   "source": [
    "class KNearestNeighbor():\n",
    "    def __init__(self, k):\n",
    "        self.k =k\n",
    "    \n",
    "    def train(self, X_train,y_train):\n",
    "        self.X_train = X_train\n",
    "        self.y_train = y_train\n",
    "    \n",
    "    def predict(self, X_test):\n",
    "        distances = self.compute_distance(X_test)\n",
    "        return self.predict_labels(distances)\n",
    "    \n",
    "    def compute_distance(self,X_test):\n",
    "        num_test =  X_test.shape[0]\n",
    "        num_train = self.X_train.shape[0]\n",
    "        distances = np.zeros((num_test,num_train))\n",
    "        \n",
    "        for i in range(num_test):\n",
    "            for j in range(num_train):\n",
    "                distances[i,j] = np.sqrt(np.sum((X_test[i,:]-self.X_train[j,:])**2))\n",
    "                \n",
    "        return distances\n",
    "\n",
    "    def predict_labels(self,distances):\n",
    "        num_test = distances.shape[0]\n",
    "        y_pred = np.zeros(num_test)\n",
    "        \n",
    "        for i in range(num_test):\n",
    "            y_indices = np.argsort(distances[i,:])\n",
    "            k_closet_classes = self.y_train[y_indices[:self.k]].astype(int)\n",
    "            y_pred[i] =np.argmax(np.bincount(k_closet_classes))\n",
    "            \n",
    "        return y_pred\n",
    "        "
   ]
  },
  {
   "cell_type": "code",
   "execution_count": 3,
   "metadata": {},
   "outputs": [
    {
     "name": "stdout",
     "output_type": "stream",
     "text": [
      "Accuracy of Scratch Model: 0.992741119379907\n",
      "Accuracy of Sklearn Model: 0.9954172972163166\n"
     ]
    }
   ],
   "source": [
    "def main():\n",
    "    \n",
    "    df = pd.read_csv( \"diamonds.csv\",nrows=1000)\n",
    "\n",
    "    label =LabelEncoder()\n",
    "    \n",
    "    df[\"cut\"]=label.fit_transform(df[\"cut\"].astype('str'))\n",
    "    df[\"color\"]=label.fit_transform(df[\"color\"].astype('str'))\n",
    "    df[\"clarity\"]=label.fit_transform(df[\"clarity\"].astype('str'))\n",
    "\n",
    "    #features\n",
    "    X = df.drop('price',axis=1).values\n",
    "    #target feature\n",
    "    y = df['price'].values\n",
    "    \n",
    "    #spliting\n",
    "    X_train, X_test, y_train, y_test = train_test_split(X, y, test_size = 0.25, random_state = None ) \n",
    "    \n",
    "        \n",
    "    ## Scaling\n",
    "    scaler = MinMaxScaler()\n",
    "    X_train = scaler.fit_transform(X_train)\n",
    "    X_test = scaler.transform(X_test)\n",
    "    \n",
    "    #fiting the model \n",
    "    KNN = KNearestNeighbor(k=3)\n",
    "    KNN.train(X_train,y_train)\n",
    "    \n",
    "    #prediction\n",
    "    y_pred = KNN.predict(X_test)\n",
    "    \n",
    "    #check accuracy of model\n",
    "    print('Accuracy of Scratch Model:',r2_score(y_test,y_pred))\n",
    "    \n",
    "    \n",
    "    #fiting the model by sklearn\n",
    "    knn = KNeighborsRegressor( n_neighbors = 3 ) \n",
    "    knn.fit( X_train, y_train )\n",
    "    y_pred_sklearn = knn.predict( X_test )\n",
    "    \n",
    "    #check accuracy of sklearn model\n",
    "    print('Accuracy of Sklearn Model:',r2_score(y_test,y_pred_sklearn))\n",
    "   \n",
    "    \n",
    "    \n",
    "if __name__=='__main__':\n",
    "    main()\n",
    "    \n",
    "    "
   ]
  }
 ],
 "metadata": {
  "kernelspec": {
   "display_name": "Python 3",
   "language": "python",
   "name": "python3"
  },
  "language_info": {
   "codemirror_mode": {
    "name": "ipython",
    "version": 3
   },
   "file_extension": ".py",
   "mimetype": "text/x-python",
   "name": "python",
   "nbconvert_exporter": "python",
   "pygments_lexer": "ipython3",
   "version": "3.7.1"
  }
 },
 "nbformat": 4,
 "nbformat_minor": 2
}
